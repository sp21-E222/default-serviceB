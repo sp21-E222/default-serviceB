{
  "nbformat": 4,
  "nbformat_minor": 0,
  "metadata": {
    "colab": {
      "name": "HF-defaultservice.ipynb",
      "provenance": [],
      "collapsed_sections": []
    },
    "kernelspec": {
      "display_name": "Python 3",
      "name": "python3"
    }
  },
  "cells": [
    {
      "cell_type": "markdown",
      "metadata": {
        "id": "LsMj-GvtRMDB"
      },
      "source": [
        "#ENGR E222 2021 Project\n",
        "#Default ML application for heart failure\n",
        "This is a default service where we train a logistic regression classifier to the heart failure data set provided in class. Here we build a model to predict, given a set of features, the likelihood of a heart attack. \n",
        "\n",
        "## Step 1: Download the kaggle dataset to your google drive\n",
        "https://medium.com/analytics-vidhya/how-to-fetch-kaggle-datasets-into-google-colab-ea682569851a\n",
        "The above link goes through fetching the .json file from kaggle and putting it\n",
        "in the correct place to allow you to use the kaggle api to fetch data directly \n",
        "to your notebook\n",
        "\n",
        "the kaggle package is not default in collab"
      ]
    },
    {
      "cell_type": "code",
      "metadata": {
        "id": "qqDgiFuu-ORP"
      },
      "source": [
        "!pip install -q kaggle \n",
        "from google.colab import files\n",
        "files.upload()\n",
        "\n",
        "# This below is command line you can also use a mouse and make dir structure\n",
        "# !mkdir -p ~/.kaggle\n",
        "# !cp kaggle.json ~/.kaggle/\n",
        "# !ls ~/.kaggle\n",
        "# !chmod 600 /root/.kaggle/kaggle.json"
      ],
      "execution_count": null,
      "outputs": []
    },
    {
      "cell_type": "markdown",
      "metadata": {
        "id": "CoDzpMF4Pd-3"
      },
      "source": [
        "## Step 2: Mount drive and define paths\n",
        "Mount the drive you need to enter a link to make this work we need a workaround"
      ]
    },
    {
      "cell_type": "code",
      "metadata": {
        "colab": {
          "base_uri": "https://localhost:8080/"
        },
        "id": "MUpBoRgVAn_3",
        "outputId": "2f16b8cb-078f-480d-b86d-94912c67cd60"
      },
      "source": [
        "from google.colab import drive\n",
        "drive.mount('/content/gdrive')"
      ],
      "execution_count": null,
      "outputs": [
        {
          "output_type": "stream",
          "text": [
            "Mounted at /content/gdrive\n"
          ],
          "name": "stdout"
        }
      ]
    },
    {
      "cell_type": "code",
      "metadata": {
        "id": "KJaxYxkKA23k"
      },
      "source": [
        "import os\n",
        "\n",
        "data_path = \"/content/gdrive/MyDrive/Kaggle\"\n",
        "os.environ['KAGGLE_CONFIG_DIR'] = data_path\n",
        "\n",
        "\n"
      ],
      "execution_count": null,
      "outputs": []
    },
    {
      "cell_type": "code",
      "metadata": {
        "colab": {
          "base_uri": "https://localhost:8080/"
        },
        "id": "B7pjzjgWA9yk",
        "outputId": "5f4af56e-d814-4a9a-e368-88d1278e8fc9"
      },
      "source": [
        "#changing the working directory\n",
        "%cd /content/gdrive/MyDrive/Kaggle"
      ],
      "execution_count": null,
      "outputs": [
        {
          "output_type": "stream",
          "text": [
            "/content/gdrive/MyDrive/Kaggle\n"
          ],
          "name": "stdout"
        }
      ]
    },
    {
      "cell_type": "markdown",
      "metadata": {
        "id": "FAfSe4XaPXg4"
      },
      "source": [
        "## Step 3: Fetch data from kaggle and unzip\n",
        "\n",
        "This is from kaggle (navigate to the API tab and copy paste)"
      ]
    },
    {
      "cell_type": "code",
      "metadata": {
        "colab": {
          "base_uri": "https://localhost:8080/"
        },
        "id": "UkwuKoC2BywD",
        "outputId": "3bea460c-cabe-4cd2-b720-de2d7491ee6c"
      },
      "source": [
        "!kaggle datasets download -d andrewmvd/heart-failure-clinical-data"
      ],
      "execution_count": null,
      "outputs": [
        {
          "output_type": "stream",
          "text": [
            "Downloading heart-failure-clinical-data.zip to /content/gdrive/MyDrive/Kaggle\n",
            "\r  0% 0.00/3.97k [00:00<?, ?B/s]\n",
            "\r100% 3.97k/3.97k [00:00<00:00, 840kB/s]\n"
          ],
          "name": "stdout"
        }
      ]
    },
    {
      "cell_type": "code",
      "metadata": {
        "colab": {
          "base_uri": "https://localhost:8080/"
        },
        "id": "mlL-f3_w2Phe",
        "outputId": "26ade223-35ed-4075-b02d-f99dcfa3ea8b"
      },
      "source": [
        "# We are now in the dir with our dataset\n",
        "!ls"
      ],
      "execution_count": null,
      "outputs": [
        {
          "output_type": "stream",
          "text": [
            "heart-failure-clinical-data.zip  hotel_bookings.csv  kaggle.json\n"
          ],
          "name": "stdout"
        }
      ]
    },
    {
      "cell_type": "code",
      "metadata": {
        "colab": {
          "base_uri": "https://localhost:8080/"
        },
        "id": "c73ZtVNZ4ktG",
        "outputId": "00ab1856-de5f-4608-92ef-ccd92367004b"
      },
      "source": [
        "#unzipping the zip files and deleting the zip files\n",
        "!unzip \\*.zip  && rm *.zip"
      ],
      "execution_count": null,
      "outputs": [
        {
          "output_type": "stream",
          "text": [
            "Archive:  heart-failure-clinical-data.zip\n",
            "  inflating: heart_failure_clinical_records_dataset.csv  \n"
          ],
          "name": "stdout"
        }
      ]
    },
    {
      "cell_type": "code",
      "metadata": {
        "colab": {
          "base_uri": "https://localhost:8080/"
        },
        "id": "CPrliZm23EMZ",
        "outputId": "c2da6913-8f83-43dd-e08b-16eab37b55d1"
      },
      "source": [
        "!ls"
      ],
      "execution_count": null,
      "outputs": [
        {
          "output_type": "stream",
          "text": [
            "heart_failure_clinical_records_dataset.csv  hotel_bookings.csv\tkaggle.json\n"
          ],
          "name": "stdout"
        }
      ]
    },
    {
      "cell_type": "markdown",
      "metadata": {
        "id": "_neRFQ8PPNRa"
      },
      "source": [
        "## Step 4: Explore and clean the data \n",
        "\n",
        "\n",
        "\n",
        " Let's get the data cleaned and arranged\n",
        " https://www.kaggle.com/anushkahedaoo/hotel-booking-demand-data-cleaning\n",
        "\n",
        " A very useful source is here: https://scikit-learn.org/stable/modules/preprocessing.html\n",
        "\n",
        " Section 6.3.4 goes through the processes of encoding categorical features\n"
      ]
    },
    {
      "cell_type": "code",
      "metadata": {
        "colab": {
          "base_uri": "https://localhost:8080/"
        },
        "id": "CXZJEupo6NAP",
        "outputId": "f8405381-91c4-4b73-bbee-01472f9180a3"
      },
      "source": [
        "import pandas as pd \n",
        "import numpy as np\n",
        "missing_value=[\"Undefined\"]\n",
        "data = pd.read_csv(\"heart_failure_clinical_records_dataset.csv\", na_values=missing_value) \n",
        "data.head()\n",
        "\n",
        "np.sum(data.isnull())\n",
        "\n",
        "# Here we are using the 12 features to predict the liklihood of a death event. \n",
        "\n",
        "Y = data['DEATH_EVENT']\n",
        "Y = Y[1:]\n",
        "X = data.drop(['DEATH_EVENT'], axis=1)\n",
        "X = X[1:]\n",
        "\n",
        "print(X.shape, Y.shape)"
      ],
      "execution_count": null,
      "outputs": [
        {
          "output_type": "stream",
          "text": [
            "(298, 12) (298,)\n"
          ],
          "name": "stdout"
        }
      ]
    },
    {
      "cell_type": "code",
      "metadata": {
        "colab": {
          "base_uri": "https://localhost:8080/"
        },
        "id": "-uCVVMYQ16dw",
        "outputId": "2f491df6-97e8-46c5-f8a2-a817ab0029bf"
      },
      "source": [
        "# Now we need to look at Y\n",
        "# 70/30\n",
        "\n",
        "from collections import Counter\n",
        "\n",
        "original_counts = Counter(Y)\n",
        "print(original_counts)\n",
        "\n",
        "\n",
        "# now lets balance the data\n",
        "from imblearn.over_sampling import SMOTE\n",
        "over = SMOTE()\n",
        "X_new, Y_new = over.fit_resample(X,Y)\n",
        "new_counts = Counter(Y_new)\n",
        "print(new_counts)\n",
        "\n",
        "# The deprication warning should be resolved. https://github.com/skorch-dev/skorch/issues/612"
      ],
      "execution_count": null,
      "outputs": [
        {
          "output_type": "stream",
          "text": [
            "Counter({0: 203, 1: 95})\n",
            "Counter({1: 203, 0: 203})\n"
          ],
          "name": "stdout"
        },
        {
          "output_type": "stream",
          "text": [
            "/usr/local/lib/python3.6/dist-packages/sklearn/externals/six.py:31: FutureWarning: The module is deprecated in version 0.21 and will be removed in version 0.23 since we've dropped support for Python 2.7. Please rely on the official version of six (https://pypi.org/project/six/).\n",
            "  \"(https://pypi.org/project/six/).\", FutureWarning)\n",
            "/usr/local/lib/python3.6/dist-packages/sklearn/utils/deprecation.py:144: FutureWarning: The sklearn.neighbors.base module is  deprecated in version 0.22 and will be removed in version 0.24. The corresponding classes / functions should instead be imported from sklearn.neighbors. Anything that cannot be imported from sklearn.neighbors is now part of the private API.\n",
            "  warnings.warn(message, FutureWarning)\n",
            "/usr/local/lib/python3.6/dist-packages/sklearn/utils/deprecation.py:87: FutureWarning: Function safe_indexing is deprecated; safe_indexing is deprecated in version 0.22 and will be removed in version 0.24.\n",
            "  warnings.warn(msg, category=FutureWarning)\n"
          ],
          "name": "stderr"
        }
      ]
    },
    {
      "cell_type": "markdown",
      "metadata": {
        "id": "OYO1ME8_PvFC"
      },
      "source": [
        "## Step 5: Create the pipeline with a gridsearch\n",
        "\n",
        "Here we can get the C parameter for the logistic regression model and the optimal number of features from PCA.\n"
      ]
    },
    {
      "cell_type": "code",
      "metadata": {
        "id": "2SPOHU8E93i6",
        "colab": {
          "base_uri": "https://localhost:8080/"
        },
        "outputId": "8ed17d7f-adbe-429a-d53c-427a3f11ca95"
      },
      "source": [
        "import numpy as np\r\n",
        "import matplotlib.pyplot as plt\r\n",
        "import pandas as pd\r\n",
        "\r\n",
        "from sklearn.decomposition import PCA\r\n",
        "from sklearn.linear_model import LogisticRegression\r\n",
        "from sklearn.pipeline import Pipeline\r\n",
        "from sklearn.model_selection import GridSearchCV\r\n",
        "\r\n",
        "# Define a pipeline to search for the best combination of PCA truncation\r\n",
        "# and classifier regularization with out the use of SMOTE.\r\n",
        "\r\n",
        "from sklearn.model_selection import train_test_split\r\n",
        "\r\n",
        "x_train, x_test, y_train, y_test = train_test_split(X_new, Y_new, test_size=0.2, random_state=0)\r\n",
        "\r\n",
        "pca = PCA()\r\n",
        "\r\n",
        "logistic = LogisticRegression(max_iter=100000, tol=0.1)\r\n",
        "\r\n",
        "pipe = Pipeline(steps=[('pca', pca), ('logistic', logistic)])\r\n",
        "\r\n",
        "# This grid search is exhaustive and time consuming. \r\n",
        "\r\n",
        "# Parameters of pipelines can be set using ‘__’ separated parameter names:\r\n",
        "param_grid = {\r\n",
        "    'pca__n_components': [2, 4, 8, 10, 12],\r\n",
        "    'logistic__C': np.logspace(-4, 4, 6),\r\n",
        "}\r\n",
        "search = GridSearchCV(pipe, param_grid, n_jobs=-1)\r\n",
        "search.fit(x_train, y_train)\r\n",
        "print(\"Best parameter (CV score=%0.3f):\" % search.best_score_)\r\n",
        "print(search.best_params_)\r\n",
        "\r\n"
      ],
      "execution_count": null,
      "outputs": [
        {
          "output_type": "stream",
          "text": [
            "Best parameter (CV score=0.796):\n",
            "{'logistic__C': 0.15848931924611143, 'pca__n_components': 8}\n"
          ],
          "name": "stdout"
        }
      ]
    },
    {
      "cell_type": "code",
      "metadata": {
        "colab": {
          "base_uri": "https://localhost:8080/"
        },
        "id": "MkfirnlT3RsV",
        "outputId": "867235f1-2520-4ae4-9787-b351256ecb3b"
      },
      "source": [
        "print(search.best_params_)"
      ],
      "execution_count": null,
      "outputs": [
        {
          "output_type": "stream",
          "text": [
            "{'logistic__C': 0.15848931924611143, 'pca__n_components': 8}\n"
          ],
          "name": "stdout"
        }
      ]
    },
    {
      "cell_type": "code",
      "metadata": {
        "colab": {
          "base_uri": "https://localhost:8080/"
        },
        "id": "k4vORHIK3Sfg",
        "outputId": "002e9005-b3aa-4789-eb6e-9fc189235469"
      },
      "source": [
        "search.best_params_\n",
        "np.logspace(-4,4,6)"
      ],
      "execution_count": null,
      "outputs": [
        {
          "output_type": "execute_result",
          "data": {
            "text/plain": [
              "array([1.00000000e-04, 3.98107171e-03, 1.58489319e-01, 6.30957344e+00,\n",
              "       2.51188643e+02, 1.00000000e+04])"
            ]
          },
          "metadata": {
            "tags": []
          },
          "execution_count": 9
        }
      ]
    },
    {
      "cell_type": "code",
      "metadata": {
        "colab": {
          "base_uri": "https://localhost:8080/",
          "height": 441
        },
        "id": "ykv_BCvE4xh5",
        "outputId": "e37a4bf7-fc0a-48f7-ac79-81bf20510d62"
      },
      "source": [
        "# Visulaize the PCA\n",
        "# This section is about using PCA to find the optimal combination of features\n",
        "# https://scikit-learn.org/stable/auto_examples/compose/plot_digits_pipe.html\n",
        "\n",
        "pca.fit(x_train)\n",
        "\n",
        "fig, (ax0, ax1) = plt.subplots(nrows=2, sharex=True, figsize=(6, 6))\n",
        "ax0.plot(np.arange(1, pca.n_components_ + 1),\n",
        "         pca.explained_variance_ratio_, '+', linewidth=2)\n",
        "ax0.set_ylabel('PCA explained variance ratio')\n",
        "\n",
        "ax0.axvline(search.best_estimator_.named_steps['pca'].n_components,\n",
        "            linestyle=':', label='n_components chosen')\n",
        "ax0.legend(prop=dict(size=12))\n",
        "\n",
        "results = pd.DataFrame(search.cv_results_)\n",
        "components_col = 'param_pca__n_components'\n",
        "best_clfs = results.groupby(components_col).apply(\n",
        "    lambda g: g.nlargest(1, 'mean_test_score'))\n",
        "\n",
        "best_clfs.plot(x=components_col, y='mean_test_score', yerr='std_test_score',\n",
        "               legend=False, ax=ax1)\n",
        "ax1.set_ylabel('Classification accuracy (val)')\n",
        "ax1.set_xlabel('n_components')\n",
        "\n",
        "plt.xlim(-1, 70)\n",
        "\n",
        "plt.tight_layout()"
      ],
      "execution_count": null,
      "outputs": [
        {
          "output_type": "display_data",
          "data": {
            "image/png": "[encoded data removed]",
            "text/plain": [
              "<Figure size 432x432 with 2 Axes>"
            ]
          },
          "metadata": {
            "tags": [],
            "needs_background": "light"
          }
        }
      ]
    },
    {
      "cell_type": "markdown",
      "metadata": {
        "id": "9rLWOrqtjJzd"
      },
      "source": [
        "# Step 6: Use the values from Step 5 to train and evaluate the model"
      ]
    },
    {
      "cell_type": "code",
      "metadata": {
        "id": "54euQedy6OCx"
      },
      "source": [
        "from imblearn.over_sampling import SMOTE\n",
        "from sklearn.preprocessing import StandardScaler\n",
        "from sklearn.pipeline import make_pipeline\n",
        "from sklearn.decomposition import PCA\n",
        "from sklearn.linear_model import LogisticRegression\n",
        "from sklearn.pipeline import Pipeline\n",
        "from sklearn.model_selection import train_test_split\n",
        "\n",
        "x_train, x_test, y_train, y_test = train_test_split(X_new, Y_new, test_size=0.2, random_state=0)\n",
        "\n",
        "pca = PCA(n_components=8)\n",
        "stdscl = StandardScaler()\n",
        "logistic = LogisticRegression(C = 0.15848931924611143, max_iter=100000, tol=0.1)\n",
        "\n",
        "\n",
        "pipe = Pipeline(steps=[('standardscalar', stdscl),('pca', pca), ('logistic', logistic)])\n"
      ],
      "execution_count": null,
      "outputs": []
    },
    {
      "cell_type": "code",
      "metadata": {
        "id": "qE-QvNC4P9pt"
      },
      "source": [
        "my_mdl = pipe.fit(x_train, y_train)"
      ],
      "execution_count": null,
      "outputs": []
    },
    {
      "cell_type": "code",
      "metadata": {
        "colab": {
          "base_uri": "https://localhost:8080/"
        },
        "id": "jmwzpiT9QK2e",
        "outputId": "6437b4e6-257d-4466-b546-09580123cd4c"
      },
      "source": [
        "my_mdl.score(x_test,y_test)"
      ],
      "execution_count": null,
      "outputs": [
        {
          "output_type": "execute_result",
          "data": {
            "text/plain": [
              "0.8658536585365854"
            ]
          },
          "metadata": {
            "tags": []
          },
          "execution_count": 21
        }
      ]
    },
    {
      "cell_type": "code",
      "metadata": {
        "id": "Hr0u7d95Qt_p"
      },
      "source": [
        "my_prediction = my_mdl.predict(x_test)"
      ],
      "execution_count": null,
      "outputs": []
    },
    {
      "cell_type": "code",
      "metadata": {
        "colab": {
          "base_uri": "https://localhost:8080/"
        },
        "id": "eKMMr6oQQ2Xd",
        "outputId": "fc49abf8-a5d0-43ea-f5a0-cdc17c9be2af"
      },
      "source": [
        "from sklearn.metrics import classification_report\n",
        "print(classification_report(y_test, my_prediction, target_names=['0', '1']))"
      ],
      "execution_count": null,
      "outputs": [
        {
          "output_type": "stream",
          "text": [
            "              precision    recall  f1-score   support\n",
            "\n",
            "           0       0.86      0.84      0.85        38\n",
            "           1       0.87      0.89      0.88        44\n",
            "\n",
            "    accuracy                           0.87        82\n",
            "   macro avg       0.87      0.86      0.86        82\n",
            "weighted avg       0.87      0.87      0.87        82\n",
            "\n"
          ],
          "name": "stdout"
        }
      ]
    },
    {
      "cell_type": "code",
      "metadata": {
        "colab": {
          "base_uri": "https://localhost:8080/"
        },
        "id": "EnPP2cnTRye6",
        "outputId": "db02e230-3d0c-4e2a-f710-284ece596f71"
      },
      "source": [
        "from sklearn.metrics import confusion_matrix\n",
        "conf = confusion_matrix(y_test, my_prediction)\n",
        "conf"
      ],
      "execution_count": null,
      "outputs": [
        {
          "output_type": "execute_result",
          "data": {
            "text/plain": [
              "array([[32,  6],\n",
              "       [ 5, 39]])"
            ]
          },
          "metadata": {
            "tags": []
          },
          "execution_count": 24
        }
      ]
    },
    {
      "cell_type": "code",
      "metadata": {
        "colab": {
          "base_uri": "https://localhost:8080/",
          "height": 295
        },
        "id": "fSoRUWANTaYi",
        "outputId": "5d8023e3-cc6b-4a3e-a89b-630e4ac23bdd"
      },
      "source": [
        "import sklearn.metrics as metrics\n",
        "# calculate the fpr and tpr for all thresholds of the classification\n",
        "probs = pipe.predict_proba(x_test)\n",
        "preds = probs[:,1]\n",
        "fpr, tpr, threshold = metrics.roc_curve(y_test, my_prediction)\n",
        "roc_auc = metrics.auc(fpr, tpr)\n",
        "\n",
        "import matplotlib.pyplot as plt\n",
        "plt.title('Receiver Operating Characteristic')\n",
        "plt.plot(fpr, tpr, 'b', label = 'AUC = %0.2f' % roc_auc)\n",
        "plt.legend(loc = 'lower right')\n",
        "plt.plot([0, 1], [0, 1],'r--')\n",
        "plt.xlim([0, 1])\n",
        "plt.ylim([0, 1])\n",
        "plt.ylabel('True Positive Rate')\n",
        "plt.xlabel('False Positive Rate')\n",
        "plt.show()"
      ],
      "execution_count": null,
      "outputs": [
        {
          "output_type": "display_data",
          "data": {
            "image/png": "[encoded data removed]",
            "text/plain": [
              "<Figure size 432x288 with 1 Axes>"
            ]
          },
          "metadata": {
            "tags": [],
            "needs_background": "light"
          }
        }
      ]
    }
  ]
}